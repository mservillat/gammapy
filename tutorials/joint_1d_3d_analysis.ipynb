{
 "cells": [
  {
   "cell_type": "markdown",
   "metadata": {},
   "source": [
    "# Joint Crab analysis with 1D and 3D datasets"
   ]
  },
  {
   "cell_type": "markdown",
   "metadata": {},
   "source": [
    "This tutorial illustrates how to run a joint analysis with different datasets.\n",
    "We look at the gamma-ray emission from the Crab nebula between 10 GeV and 100 TeV.\n",
    "The spectral parameters are optimized by combining a 3D analysis of Fermi-LAT data, a ON/OFF spectral analysis of HESS data, and flux points from HAWC.  \n",
    "\n",
    "\n"
   ]
  },
  {
   "cell_type": "code",
   "execution_count": null,
   "metadata": {},
   "outputs": [],
   "source": [
    "import os\n",
    "import numpy as np\n",
    "from astropy import units as u\n",
    "import matplotlib.pyplot as plt\n",
    "from gammapy.modeling import Fit, Datasets\n",
    "from gammapy.spectrum import (\n",
    "    FluxPoints,\n",
    "    FluxPointsEstimator,\n",
    "    FluxPointsDataset,\n",
    "    SpectrumDatasetOnOff,\n",
    ")\n",
    "from pathlib import Path"
   ]
  },
  {
   "cell_type": "markdown",
   "metadata": {},
   "source": [
    "## Data and models files\n",
    "\n",
    "We are going to use pre-made datasets. Links toward other tutorials detailing on how to prepare datasets are given at the end.\n",
    "The datasets serialization produce YAML files listing the datasets and models. In the following cells we show an example containning only the Fermi-LAT dataset and the Crab model.\n",
    "\n",
    "Fermi-LAT-3FHL_datasets.yaml:"
   ]
  },
  {
   "cell_type": "raw",
   "metadata": {},
   "source": [
    "datasets:\n",
    "- name: Fermi-LAT\n",
    "  type: MapDataset\n",
    "  likelihood: cash\n",
    "  models:\n",
    "- Crab Nebula\n",
    "  background: background\n",
    "  filename: $GAMMAPY_DATA/fermi-3fhl-crab/Fermi-LAT-3FHL_data_Fermi-LAT.fits"
   ]
  },
  {
   "cell_type": "markdown",
   "metadata": {},
   "source": [
    "Fermi-LAT-3FHL_models.yaml:"
   ]
  },
  {
   "cell_type": "raw",
   "metadata": {},
   "source": [
    "components:\n",
    "- name: Crab Nebula\n",
    "  type: SkyModel\n",
    "  spatial:\n",
    "    type: PointSpatialModel\n",
    "    frame: icrs\n",
    "    parameters:\n",
    "    - name: lon_0\n",
    "      value: 83.63310241699219\n",
    "      unit: deg\n",
    "      min: .nan\n",
    "      max: .nan\n",
    "      frozen: true\n",
    "    - name: lat_0\n",
    "      value: 22.019899368286133\n",
    "      unit: deg\n",
    "      min: -90.0\n",
    "      max: 90.0\n",
    "      frozen: true\n",
    "  spectral:\n",
    "    type: LogParabolaSpectralModel\n",
    "    parameters:\n",
    "    - name: amplitude\n",
    "      value: 0.3415498620816483\n",
    "      unit: cm-2 s-1 TeV-1\n",
    "      min: .nan\n",
    "      max: .nan\n",
    "      frozen: false\n",
    "    - name: reference\n",
    "      value: 5.054833602905273e-05\n",
    "      unit: TeV\n",
    "      min: .nan\n",
    "      max: .nan\n",
    "      frozen: true\n",
    "    - name: alpha\n",
    "      value: 2.510798031388936\n",
    "      unit: ''\n",
    "      min: .nan\n",
    "      max: .nan\n",
    "      frozen: false\n",
    "    - name: beta\n",
    "      value: -0.022476498188855533\n",
    "      unit: ''\n",
    "      min: .nan\n",
    "      max: .nan\n",
    "      frozen: false\n",
    "- name: background\n",
    "  type: BackgroundModel\n",
    "  parameters:\n",
    "  - name: norm\n",
    "    value: 0.9544383244743555\n",
    "    unit: ''\n",
    "    min: 0.0\n",
    "    max: .nan\n",
    "    frozen: false\n",
    "  - name: tilt\n",
    "    value: 0.0\n",
    "    unit: ''\n",
    "    min: .nan\n",
    "    max: .nan\n",
    "    frozen: true\n",
    "  - name: reference\n",
    "    value: 1.0\n",
    "    unit: TeV\n",
    "    min: .nan\n",
    "    max: .nan\n",
    "    frozen: true\n"
   ]
  },
  {
   "cell_type": "markdown",
   "metadata": {},
   "source": [
    "## Reading  different datasets\n",
    "\n",
    "\n",
    "### Fermi-LAT 3FHL: map dataset for 3D analysis\n",
    "For now we let's use the datasets serialization only to read the 3D `MapDataset` associated to Fermi-LAT 3FHL data and models."
   ]
  },
  {
   "cell_type": "code",
   "execution_count": null,
   "metadata": {},
   "outputs": [],
   "source": [
    "path = \"$GAMMAPY_DATA/fermi-3fhl-crab/Fermi-LAT-3FHL\"\n",
    "filedata = Path(path + \"_datasets.yaml\")\n",
    "filemodel = Path(path + \"_models.yaml\")\n",
    "datasets = Datasets.from_yaml(filedata=filedata, filemodel=filemodel)\n",
    "dataset_fermi = datasets[0]"
   ]
  },
  {
   "cell_type": "markdown",
   "metadata": {},
   "source": [
    "We get the Crab spectral model in order to share it with the other datasets"
   ]
  },
  {
   "cell_type": "code",
   "execution_count": null,
   "metadata": {},
   "outputs": [],
   "source": [
    "crab_spec = [\n",
    "    model.spectral_model\n",
    "    for model in dataset_fermi.model\n",
    "    if model.name == \"Crab Nebula\"\n",
    "][0]\n",
    "\n",
    "print(crab_spec)"
   ]
  },
  {
   "cell_type": "markdown",
   "metadata": {},
   "source": [
    "### HESS-DL3: 1D ON/OFF dataset for spectral fitting\n",
    "\n",
    "The ON/OFF datasets can be read from PHA files following the [OGIP standards](https://heasarc.gsfc.nasa.gov/docs/heasarc/ofwg/docs/spectra/ogip_92_007/node5.html).\n",
    "We read the PHA files from each observation, and compute a stacked dataset for simplicity.\n",
    "Then the Crab spectral model previously defined is added to the dataset."
   ]
  },
  {
   "cell_type": "code",
   "execution_count": null,
   "metadata": {},
   "outputs": [],
   "source": [
    "obs_ids = [23523, 23526, 23559, 23592]\n",
    "datasets = []\n",
    "for obs_id in obs_ids:\n",
    "    datasets = SpectrumDatasetOnOff.from_ogip_files(\n",
    "        \"$GAMMAPY_DATA/joint-crab/spectra/hess/pha_obs\" + str(obs_id) + \".fits\"\n",
    "    )\n",
    "dataset_hess = Datasets(datasets).stack_reduce()\n",
    "dataset_hess.name = \"HESS\"\n",
    "dataset_hess.model = crab_spec"
   ]
  },
  {
   "cell_type": "markdown",
   "metadata": {},
   "source": [
    "### HAWC: 1D dataset for flux point fitting\n",
    "\n",
    "The HAWC flux point are taken from https://arxiv.org/pdf/1905.12518.pdf. Then these flux points are read from a pre-made FITS file and passed to a `FluxPointsDataset` together with the source spectral model.\n"
   ]
  },
  {
   "cell_type": "code",
   "execution_count": null,
   "metadata": {},
   "outputs": [],
   "source": [
    "# read flux points from https://arxiv.org/pdf/1905.12518.pdf\n",
    "filename = \"$GAMMAPY_DATA/hawc_crab/HAWC19_flux_points.fits\"\n",
    "flux_points_hawc = FluxPoints.read(filename)\n",
    "dataset_hawc = FluxPointsDataset(crab_spec, flux_points_hawc, name=\"HAWC\")"
   ]
  },
  {
   "cell_type": "markdown",
   "metadata": {},
   "source": [
    "## Datasets serialization\n",
    "\n",
    "The `datasets` object contains each dataset previously defined. \n",
    "It can be saved on disk as datasets.yaml, models.yaml, and several data files specific to each dataset. Then the `datasets` can be rebuild later from these files."
   ]
  },
  {
   "cell_type": "code",
   "execution_count": null,
   "metadata": {},
   "outputs": [],
   "source": [
    "datasets = Datasets([dataset_fermi, dataset_hess, dataset_hawc])\n",
    "path = Path(\"crab-3datasets\")\n",
    "# datasets.to_yaml(path=path, prefix=\"crab_10GeV_100TeV\", overwrite=True)\n",
    "path.mkdir(exist_ok=True)\n",
    "filedata = path / \"crab_10GeV_100TeV_datasets.yaml\"\n",
    "filemodel = path / \"crab_10GeV_100TeV_models.yaml\"\n",
    "# datasets.from_yaml(filedata=filedata, filemodel=filemodel)"
   ]
  },
  {
   "cell_type": "markdown",
   "metadata": {},
   "source": [
    "## Joint analysis\n",
    "\n",
    "We run the fit on the `Datasets` object that include a dataset for each instrument\n"
   ]
  },
  {
   "cell_type": "code",
   "execution_count": null,
   "metadata": {},
   "outputs": [],
   "source": [
    "# Joint fitting\n",
    "fit_joint = Fit(datasets)\n",
    "results_joint = fit_joint.run()\n",
    "print(results_joint)\n",
    "print(results_joint.parameters.to_table())"
   ]
  },
  {
   "cell_type": "markdown",
   "metadata": {},
   "source": [
    "Let's display only the parameters of the Crab spectral model"
   ]
  },
  {
   "cell_type": "code",
   "execution_count": null,
   "metadata": {},
   "outputs": [],
   "source": [
    "crab_spec.parameters.covariance = results_joint.parameters.get_subcovariance(\n",
    "    crab_spec.parameters\n",
    ")\n",
    "print(crab_spec)"
   ]
  },
  {
   "cell_type": "markdown",
   "metadata": {},
   "source": [
    "We can compute flux points for Fermi-LAT and HESS datasets in order plot them together with the HAWC flux point."
   ]
  },
  {
   "cell_type": "code",
   "execution_count": null,
   "metadata": {},
   "outputs": [],
   "source": [
    "# compute Fermi-LAT and HESS flux points\n",
    "e_min, e_max = 0.01, 2.0\n",
    "El_fermi = np.logspace(np.log10(e_min), np.log10(e_max), 6) * u.TeV\n",
    "flux_points_fermi = FluxPointsEstimator(\n",
    "    datasets=dataset_fermi, e_edges=El_fermi, source=\"Crab Nebula\"\n",
    ").run()\n",
    "\n",
    "e_min, e_max = 1.0, 15.0\n",
    "El_hess = np.logspace(np.log10(e_min), np.log10(e_max), 6) * u.TeV\n",
    "flux_points_hess = FluxPointsEstimator(\n",
    "    datasets=dataset_hess, e_edges=El_hess\n",
    ").run()"
   ]
  },
  {
   "cell_type": "markdown",
   "metadata": {},
   "source": [
    "Now, Let's plot the Crab spectrum fitted and the flux points of each instrument.\n"
   ]
  },
  {
   "cell_type": "code",
   "execution_count": null,
   "metadata": {},
   "outputs": [],
   "source": [
    "# display spectrum and flux points\n",
    "energy_range = [0.01, 120] * u.TeV\n",
    "plt.figure(figsize=(8, 6))\n",
    "ax = crab_spec.plot(energy_range=energy_range, energy_power=2, label=\"Model\")\n",
    "crab_spec.plot_error(ax=ax, energy_range=energy_range, energy_power=2)\n",
    "flux_points_fermi.plot(ax=ax, energy_power=2, label=\"Fermi-LAT\")\n",
    "flux_points_hess.plot(ax=ax, energy_power=2, label=\"HESS\")\n",
    "flux_points_hawc.plot(ax=ax, energy_power=2, label=\"HAWC\")\n",
    "plt.legend();"
   ]
  },
  {
   "cell_type": "markdown",
   "metadata": {},
   "source": [
    "## To go further\n",
    "\n",
    "More details on how to prepare datasets with the high and low level interfaces are available in these tutorials: \n",
    "- https://docs.gammapy.org/0.14/notebooks/fermi_lat.html\n",
    "- https://docs.gammapy.org/dev/notebooks/hess.html\n",
    "- https://docs.gammapy.org/dev/notebooks/spectrum_analysis.html\n"
   ]
  },
  {
   "cell_type": "code",
   "execution_count": null,
   "metadata": {},
   "outputs": [],
   "source": []
  }
 ],
 "metadata": {
  "kernelspec": {
   "display_name": "Python 3",
   "language": "python",
   "name": "python3"
  },
  "language_info": {
   "codemirror_mode": {
    "name": "ipython",
    "version": 3
   },
   "file_extension": ".py",
   "mimetype": "text/x-python",
   "name": "python",
   "nbconvert_exporter": "python",
   "pygments_lexer": "ipython3",
   "version": "3.7.0"
  }
 },
 "nbformat": 4,
 "nbformat_minor": 4
}
